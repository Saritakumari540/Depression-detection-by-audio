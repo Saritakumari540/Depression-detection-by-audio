{
  "nbformat": 4,
  "nbformat_minor": 0,
  "metadata": {
    "colab": {
      "provenance": [],
      "authorship_tag": "ABX9TyOZWLZYC6CD8DnCMtfvMP0h",
      "include_colab_link": true
    },
    "kernelspec": {
      "name": "python3",
      "display_name": "Python 3"
    },
    "language_info": {
      "name": "python"
    }
  },
  "cells": [
    {
      "cell_type": "markdown",
      "metadata": {
        "id": "view-in-github",
        "colab_type": "text"
      },
      "source": [
        "<a href=\"https://colab.research.google.com/github/Saritakumari540/Depression-detection-by-audio/blob/main/DepressionDetectionByAudio.ipynb\" target=\"_parent\"><img src=\"https://colab.research.google.com/assets/colab-badge.svg\" alt=\"Open In Colab\"/></a>"
      ]
    },
    {
      "cell_type": "markdown",
      "source": [
        "# Install and import dependencies"
      ],
      "metadata": {
        "id": "YTa_OLs-wIhx"
      }
    },
    {
      "cell_type": "code",
      "source": [],
      "metadata": {
        "id": "t0Q-ViZcwCDE"
      },
      "execution_count": null,
      "outputs": []
    }
  ]
}