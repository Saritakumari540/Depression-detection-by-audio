{
  "nbformat": 4,
  "nbformat_minor": 0,
  "metadata": {
    "colab": {
      "provenance": [],
      "authorship_tag": "ABX9TyNd/hCU44dtTGb9lM9yyK2y",
      "include_colab_link": true
    },
    "kernelspec": {
      "name": "python3",
      "display_name": "Python 3"
    },
    "language_info": {
      "name": "python"
    }
  },
  "cells": [
    {
      "cell_type": "markdown",
      "metadata": {
        "id": "view-in-github",
        "colab_type": "text"
      },
      "source": [
        "<a href=\"https://colab.research.google.com/github/Saritakumari540/Depression-detection-by-audio/blob/main/DepressionDetectionByAudio.ipynb\" target=\"_parent\"><img src=\"https://colab.research.google.com/assets/colab-badge.svg\" alt=\"Open In Colab\"/></a>"
      ]
    },
    {
      "cell_type": "markdown",
      "source": [
        "# Install and import dependencies"
      ],
      "metadata": {
        "id": "YTa_OLs-wIhx"
      }
    },
    {
      "cell_type": "code",
      "source": [
        "!wget https://zenodo.org/records/1188976/files/Audio_Speech_Actors_01-24.zip?download=1"
      ],
      "metadata": {
        "colab": {
          "base_uri": "https://localhost:8080/"
        },
        "id": "t0Q-ViZcwCDE",
        "outputId": "435df5d5-735a-4971-db45-71293bb419fd"
      },
      "execution_count": 2,
      "outputs": [
        {
          "output_type": "stream",
          "name": "stdout",
          "text": [
            "--2024-11-09 21:10:27--  https://zenodo.org/records/1188976/files/Audio_Speech_Actors_01-24.zip?download=1\n",
            "Resolving zenodo.org (zenodo.org)... 188.184.103.159, 188.185.79.172, 188.184.98.238, ...\n",
            "Connecting to zenodo.org (zenodo.org)|188.184.103.159|:443... connected.\n",
            "HTTP request sent, awaiting response... 200 OK\n",
            "Length: 208468073 (199M) [application/octet-stream]\n",
            "Saving to: ‘Audio_Speech_Actors_01-24.zip?download=1’\n",
            "\n",
            "Audio_Speech_Actors 100%[===================>] 198.81M  30.0MB/s    in 7.5s    \n",
            "\n",
            "2024-11-09 21:10:35 (26.4 MB/s) - ‘Audio_Speech_Actors_01-24.zip?download=1’ saved [208468073/208468073]\n",
            "\n"
          ]
        }
      ]
    },
    {
      "cell_type": "code",
      "source": [
        "!mkdir -p data/input\n",
        "!mkdir -p data/working/Depression\n",
        "!mkdir -p data/working/NonDepression"
      ],
      "metadata": {
        "id": "y5Odmf4Zw5HR"
      },
      "execution_count": 8,
      "outputs": []
    },
    {
      "cell_type": "code",
      "source": [
        "!unzip Audio_Speech_Actors_01-24.zip?download=1 -d ./data/input"
      ],
      "metadata": {
        "id": "7hwPcCLDzSjb"
      },
      "execution_count": null,
      "outputs": []
    },
    {
      "cell_type": "code",
      "source": [
        "!pip install tensorflow-io"
      ],
      "metadata": {
        "colab": {
          "base_uri": "https://localhost:8080/"
        },
        "id": "tjqRbvQgzu7f",
        "outputId": "589dfbf3-7365-4508-c396-458887f98b32"
      },
      "execution_count": 9,
      "outputs": [
        {
          "output_type": "stream",
          "name": "stdout",
          "text": [
            "Collecting tensorflow-io\n",
            "  Downloading tensorflow_io-0.37.1-cp310-cp310-manylinux_2_17_x86_64.manylinux2014_x86_64.whl.metadata (14 kB)\n",
            "Requirement already satisfied: tensorflow-io-gcs-filesystem==0.37.1 in /usr/local/lib/python3.10/dist-packages (from tensorflow-io) (0.37.1)\n",
            "Downloading tensorflow_io-0.37.1-cp310-cp310-manylinux_2_17_x86_64.manylinux2014_x86_64.whl (49.6 MB)\n",
            "\u001b[2K   \u001b[90m━━━━━━━━━━━━━━━━━━━━━━━━━━━━━━━━━━━━━━━━\u001b[0m \u001b[32m49.6/49.6 MB\u001b[0m \u001b[31m13.4 MB/s\u001b[0m eta \u001b[36m0:00:00\u001b[0m\n",
            "\u001b[?25hInstalling collected packages: tensorflow-io\n",
            "Successfully installed tensorflow-io-0.37.1\n"
          ]
        }
      ]
    },
    {
      "cell_type": "code",
      "source": [
        "import os\n",
        "from matplotlib import pyplot as plt\n",
        "import tensorflow as tf\n",
        "import tensorflow_io as tfio\n",
        "import shutil"
      ],
      "metadata": {
        "id": "GvvaFYQdz16v"
      },
      "execution_count": 11,
      "outputs": []
    },
    {
      "cell_type": "markdown",
      "source": [
        "# Data Preparation"
      ],
      "metadata": {
        "id": "tsnS4aRMyPst"
      }
    },
    {
      "cell_type": "code",
      "source": [
        "base_source_directory = \"data/input\"\n",
        "destination_directories = {\n",
        "    'Depression': 'data/working/Depression/',\n",
        "    'NonDepression': 'data/working/NonDepression/'\n",
        "}\n",
        "\n",
        "def copy_files_with_specific_number():\n",
        "    count = 0\n",
        "    for i in range(1, 25):\n",
        "        actor_folder = f\"Actor_{str(i).zfill(2)}\"\n",
        "        source_directory = os.path.join(base_source_directory, actor_folder)\n",
        "\n",
        "        for category, base_destination_directory in destination_directories.items():\n",
        "            destination_directory = os.path.join(base_destination_directory, actor_folder)\n",
        "\n",
        "            if not os.path.exists(destination_directory):\n",
        "                os.makedirs(destination_directory)\n",
        "\n",
        "            for filename in os.listdir(source_directory):\n",
        "                if '-' in filename:\n",
        "                    parts = filename.split('-')\n",
        "                    if len(parts) >= 3:\n",
        "                        number = parts[2][:2]\n",
        "                        if (category == 'Depression' and number in ['04', '05', '06', '07']) or \\\n",
        "                           (category == 'NonDepression' and number in ['01', '02', '03', '08']):\n",
        "                            source_path = os.path.join(source_directory, filename)\n",
        "                            destination_path = os.path.join(destination_directory, filename)\n",
        "                            shutil.copy(source_path, destination_path)\n",
        "                            count += 1\n",
        "    print(f\"Total files moved: {count}\")\n",
        "\n",
        "copy_files_with_specific_number()"
      ],
      "metadata": {
        "colab": {
          "base_uri": "https://localhost:8080/"
        },
        "id": "Atpa9y7YxbZo",
        "outputId": "917b25cc-2c48-4289-93e9-5746a2f59e76"
      },
      "execution_count": 14,
      "outputs": [
        {
          "output_type": "stream",
          "name": "stdout",
          "text": [
            "Total files moved: 1440\n"
          ]
        }
      ]
    },
    {
      "cell_type": "code",
      "source": [],
      "metadata": {
        "id": "uI2bpF400EHR"
      },
      "execution_count": null,
      "outputs": []
    }
  ]
}